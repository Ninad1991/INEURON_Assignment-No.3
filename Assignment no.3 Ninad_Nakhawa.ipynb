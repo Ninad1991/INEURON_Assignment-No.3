{
 "cells": [
  {
   "cell_type": "code",
   "execution_count": 11,
   "metadata": {},
   "outputs": [],
   "source": [
    "#1.1 Write a Python Program to implement your own myreduce() function which works exactly...\n",
    "#like Python's built-in function reduce()"
   ]
  },
  {
   "cell_type": "code",
   "execution_count": 12,
   "metadata": {},
   "outputs": [
    {
     "name": "stdout",
     "output_type": "stream",
     "text": [
      "input: \n",
      "Please insert the number: 5\n",
      "Output: \n",
      "List of numbers are:  [0, 1, 2, 3, 4, 5]\n",
      "List of sum of all elements are  15\n"
     ]
    }
   ],
   "source": [
    "def myreduce(n):\n",
    "    num_list=list(range(number+1))\n",
    "    sum_of_elements= 0\n",
    "    \n",
    "    for i in num_list:\n",
    "        sum_of_elements+=i\n",
    "        \n",
    "    return num_list,sum_of_elements\n",
    "\n",
    "print(\"input: \")\n",
    "number= int(input(\"Please insert the number: \"))\n",
    "\n",
    "# Function execution\n",
    "\n",
    "output_value= myreduce(number)\n",
    "\n",
    "# Output\n",
    "print(\"Output: \")\n",
    "print(\"List of numbers are: \", output_value[0])\n",
    "print(\"List of sum of all elements are \", output_value[1])"
   ]
  },
  {
   "cell_type": "code",
   "execution_count": 13,
   "metadata": {},
   "outputs": [],
   "source": [
    "#1.2 Write a Python program to implement your own myfilter() function which works exactly...\n",
    "#like Python's built-in function filter()"
   ]
  },
  {
   "cell_type": "code",
   "execution_count": 14,
   "metadata": {},
   "outputs": [
    {
     "name": "stdout",
     "output_type": "stream",
     "text": [
      "Input:\n",
      "Please insert the number: 10\n",
      "Output:\n",
      "List of numbers: [1, 2, 3, 4, 5, 6, 7, 8, 9, 10]\n",
      "List of Even numbers, which are multiples of 5 are: [10]\n",
      "List of Odd numbers, which are multiples of 5 are: [5]\n"
     ]
    }
   ],
   "source": [
    "print(\"Input:\")\n",
    "number=int(input(\"Please insert the number: \"))\n",
    "\n",
    "num_list=list(range(1,number+1))\n",
    "\n",
    "\n",
    "def myfilter(num_list):\n",
    "    '''This function will filter even and odd numbers from list which are multiples of 5 '''\n",
    "    num_even_list=[]\n",
    "    num_odd_list=[]\n",
    "    \n",
    "    for i in num_list:\n",
    "        if(i%5==0):\n",
    "            if(i%2==0):\n",
    "                num_even_list.append(i)\n",
    "            else:\n",
    "                num_odd_list.append(i)\n",
    "                \n",
    "    return num_even_list,num_odd_list\n",
    "\n",
    "\n",
    "#Function Execution\n",
    "output_value=myfilter(num_list)\n",
    "\n",
    "#Output\n",
    "\n",
    "print(\"Output:\")\n",
    "print(\"List of numbers:\",num_list)\n",
    "print(\"List of Even numbers, which are multiples of 5 are:\",output_value[0])\n",
    "print(\"List of Odd numbers, which are multiples of 5 are:\",output_value[1])"
   ]
  },
  {
   "cell_type": "code",
   "execution_count": null,
   "metadata": {},
   "outputs": [],
   "source": [
    "2. Implement List comprehensions to produce the following lists.\n",
    "Write List comprehensions to produce the following Lists"
   ]
  },
  {
   "cell_type": "code",
   "execution_count": 15,
   "metadata": {},
   "outputs": [
    {
     "data": {
      "text/plain": [
       "['x', 'xx', 'xxx', 'xxxx', 'y', 'yy', 'yyy', 'yyyy', 'z', 'zz', 'zzz', 'zzzz']"
      ]
     },
     "execution_count": 15,
     "metadata": {},
     "output_type": "execute_result"
    }
   ],
   "source": [
    "aphbt=[\"x\",\"y\",\"z\"]\n",
    "p= [(j*i) or (j*i) for i in aphbt for j in range(1,5)]\n",
    "p"
   ]
  },
  {
   "cell_type": "code",
   "execution_count": 16,
   "metadata": {},
   "outputs": [
    {
     "data": {
      "text/plain": [
       "['x', 'y', 'z', 'xx', 'yy', 'zz', 'xxx', 'yyy', 'zzz', 'xxxx', 'yyyy', 'zzzz']"
      ]
     },
     "execution_count": 16,
     "metadata": {},
     "output_type": "execute_result"
    }
   ],
   "source": [
    "aphbt=[\"x\",\"y\",\"z\"]\n",
    "q= [(j*i) or (j*i)  for j in range(1,5) for i in aphbt]\n",
    "q"
   ]
  },
  {
   "cell_type": "code",
   "execution_count": 17,
   "metadata": {},
   "outputs": [
    {
     "data": {
      "text/plain": [
       "[(1, 1), (2, 1), (3, 1), (1, 2), (2, 2), (3, 2), (1, 3), (2, 3), (3, 3)]"
      ]
     },
     "execution_count": 17,
     "metadata": {},
     "output_type": "execute_result"
    }
   ],
   "source": [
    "lst= [((j,i)) for i in range (1,4) for j in range (1,4)]\n",
    "lst"
   ]
  }
 ],
 "metadata": {
  "kernelspec": {
   "display_name": "Python 3",
   "language": "python",
   "name": "python3"
  },
  "language_info": {
   "codemirror_mode": {
    "name": "ipython",
    "version": 3
   },
   "file_extension": ".py",
   "mimetype": "text/x-python",
   "name": "python",
   "nbconvert_exporter": "python",
   "pygments_lexer": "ipython3",
   "version": "3.8.3"
  }
 },
 "nbformat": 4,
 "nbformat_minor": 4
}
